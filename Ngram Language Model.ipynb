{
 "cells": [
  {
   "cell_type": "code",
   "execution_count": null,
   "metadata": {},
   "outputs": [],
   "source": []
  },
  {
   "cell_type": "code",
   "execution_count": 1,
   "metadata": {
    "scrolled": true
   },
   "outputs": [
    {
     "name": "stdout",
     "output_type": "stream",
     "text": [
      "                                               tweet\n",
      "0  @miss_simmons1 @CooperativeBank @HSBC Donât ...\n",
      "1  @HSBC_UK I wish HSBC had been able to honour t...\n",
      "2  @AshDMcarp HSBC is the worst, I tried calling ...\n",
      "3  @HSBC_UK If you want the worlds worst mortgage...\n",
      "4  @justleeuk @cliveedwards10 @Ens_007 @HSBC_UK @...\n"
     ]
    }
   ],
   "source": [
    "import pandas as pd\n",
    "\n",
    "df=pd.read_csv(\"C:/Users/Giantstride/Desktop/AInfinity/Bad reputation.csv\",encoding='latin1')\n",
    "\n",
    "print(df.head())"
   ]
  },
  {
   "cell_type": "code",
   "execution_count": 2,
   "metadata": {},
   "outputs": [],
   "source": [
    "import re\n",
    "import unicodedata\n",
    "import nltk\n",
    "from nltk.corpus import stopwords\n"
   ]
  },
  {
   "cell_type": "code",
   "execution_count": 3,
   "metadata": {},
   "outputs": [],
   "source": [
    "import matplotlib.pyplot as plt"
   ]
  },
  {
   "cell_type": "code",
   "execution_count": 4,
   "metadata": {},
   "outputs": [],
   "source": [
    "def basic_clean(tweet):\n",
    "  \"\"\"\n",
    "  A simple function to clean up the data. All the words that\n",
    "  are not designated as a stop word is then lemmatized after\n",
    "  encoding and basic regex parsing are performed.\n",
    "  \"\"\"\n",
    "  wnl = nltk.stem.WordNetLemmatizer()\n",
    "  stopwords = nltk.corpus.stopwords.words('english') \n",
    "  text = (unicodedata.normalize('NFKD', tweet)\n",
    "    .encode('ascii', 'ignore')\n",
    "    .decode('utf-8', 'ignore')\n",
    "    .lower())\n",
    "  words = re.sub(r'[^\\w\\s]', '', tweet).split()\n",
    "  return [wnl.lemmatize(word) for word in words if word not in stopwords]"
   ]
  },
  {
   "cell_type": "code",
   "execution_count": 5,
   "metadata": {},
   "outputs": [],
   "source": [
    "def clean_text(tweet):\n",
    "    #Remove RT\n",
    "    words = re.sub(r'RT', '', tweet)\n",
    "    \n",
    "    #Fix &\n",
    "    words = re.sub(r'&amp;', '&', tweet)\n",
    "    \n",
    "    #Remove punctuations\n",
    "    words = re.sub(r'[?!.;:,#@-]', '', tweet)\n",
    "\n",
    "    #Convert to lowercase to maintain consistency\n",
    "    words = tweet.lower()\n",
    "    return words"
   ]
  },
  {
   "cell_type": "code",
   "execution_count": null,
   "metadata": {},
   "outputs": [],
   "source": []
  },
  {
   "cell_type": "code",
   "execution_count": 6,
   "metadata": {},
   "outputs": [
    {
     "name": "stderr",
     "output_type": "stream",
     "text": [
      "[nltk_data] Downloading package wordnet to\n",
      "[nltk_data]     C:\\Users\\Giantstride\\AppData\\Roaming\\nltk_data...\n",
      "[nltk_data]   Package wordnet is already up-to-date!\n"
     ]
    },
    {
     "data": {
      "text/plain": [
       "True"
      ]
     },
     "execution_count": 6,
     "metadata": {},
     "output_type": "execute_result"
    }
   ],
   "source": [
    "nltk.download('wordnet')"
   ]
  },
  {
   "cell_type": "code",
   "execution_count": 7,
   "metadata": {},
   "outputs": [],
   "source": [
    "words = basic_clean(''.join(str(df['tweet'].tolist())))"
   ]
  },
  {
   "cell_type": "code",
   "execution_count": 8,
   "metadata": {},
   "outputs": [
    {
     "data": {
      "text/plain": [
       "['miss_simmons1',\n",
       " 'CooperativeBank',\n",
       " 'HSBC',\n",
       " 'Donâx80x99t',\n",
       " 'bother',\n",
       " 'HSBCUKBusiness',\n",
       " 'worse',\n",
       " 'HSBC_UK',\n",
       " 'I',\n",
       " 'wish',\n",
       " 'HSBC',\n",
       " 'able',\n",
       " 'honour',\n",
       " 'dividend',\n",
       " 'payment',\n",
       " 'many',\n",
       " 'loyal',\n",
       " 'investor',\n",
       " 'felt',\n",
       " 'disappointed',\n",
       " 'especially',\n",
       " 'previously',\n",
       " 'advised',\n",
       " 'due',\n",
       " 'date',\n",
       " 'dividend',\n",
       " 'sadly',\n",
       " 'failed',\n",
       " 'materialise',\n",
       " 'AshDMcarp']"
      ]
     },
     "execution_count": 8,
     "metadata": {},
     "output_type": "execute_result"
    }
   ],
   "source": [
    "words [:30]"
   ]
  },
  {
   "cell_type": "code",
   "execution_count": 9,
   "metadata": {
    "scrolled": false
   },
   "outputs": [
    {
     "data": {
      "text/plain": [
       "(customer, service)                12\n",
       "(worst, bank)                       8\n",
       "(HSBC, worst)                       7\n",
       "(week, ago)                         5\n",
       "(worst, customer)                   3\n",
       "(credit, card)                      3\n",
       "(service, ever)                     3\n",
       "(customer, care)                    3\n",
       "(GasManGod, BorisJohnson)           3\n",
       "(kevgasandhtg, GasManGod)           3\n",
       "(BorisJohnson, Tom_Randall)         3\n",
       "(BBL, applied)                      2\n",
       "(switch, bank)                      2\n",
       "(worst, service)                    2\n",
       "(couldnt, imagine)                  2\n",
       "(bank, account)                     2\n",
       "(first, time)                       2\n",
       "(awful, service)                    2\n",
       "(I, havent)                         2\n",
       "(Customer, Service)                 2\n",
       "(I, know)                           2\n",
       "(worst, part)                       2\n",
       "(HSBC_UK, I)                        2\n",
       "(I, need)                           2\n",
       "(worse, HSBC_UK)                    2\n",
       "(TradesTalk, kevgasandhtg)          2\n",
       "(Absolutely, shocking)              2\n",
       "(I, think)                          2\n",
       "(Ive, chased)                       2\n",
       "(I, started)                        2\n",
       "(StarlingBank, HSBC_UK)             2\n",
       "(I, couldnt)                        2\n",
       "(worst, I)                          2\n",
       "(3, week)                           2\n",
       "(day, application)                  2\n",
       "(look, like)                        2\n",
       "(even, worse)                       2\n",
       "(even, know)                        2\n",
       "(HSBC, bank)                        2\n",
       "(MemoryLaneDigi1, StarlingBank)     2\n",
       "(seems, HSBC)                       2\n",
       "(I, wish)                           2\n",
       "(HSBC_UK, TradesTalk)               2\n",
       "(hold, music)                       2\n",
       "(bank, know)                        2\n",
       "(I, canâx80x99t)                    2\n",
       "(lot, people)                       2\n",
       "(I, called)                         2\n",
       "(applied, 4th)                      2\n",
       "(They, dont)                        2\n",
       "dtype: int64"
      ]
     },
     "execution_count": 9,
     "metadata": {},
     "output_type": "execute_result"
    }
   ],
   "source": [
    "(pd.Series(nltk.ngrams(words, 2)).value_counts())[:50]"
   ]
  },
  {
   "cell_type": "code",
   "execution_count": 10,
   "metadata": {
    "scrolled": false
   },
   "outputs": [
    {
     "data": {
      "text/plain": [
       "(GasManGod, BorisJohnson, Tom_Randall)                       3\n",
       "(kevgasandhtg, GasManGod, BorisJohnson)                      3\n",
       "(worst, customer, service)                                   2\n",
       "(TradesTalk, kevgasandhtg, GasManGod)                        2\n",
       "(BBL, applied, 4th)                                          2\n",
       "(3, week, ago)                                               2\n",
       "(HSBC, worst, bank)                                          2\n",
       "(customer, service, ever)                                    2\n",
       "(Absolutely, shocking, service)                              2\n",
       "(two, week, ago)                                             2\n",
       "(HSBC_UK, TradesTalk, kevgasandhtg)                          2\n",
       "(MemoryLaneDigi1, StarlingBank, HSBC_UK)                     2\n",
       "(I, couldnt, imagine)                                        2\n",
       "(full, They, dont)                                           1\n",
       "(help, bank, leaving)                                        1\n",
       "(phone, service, worseWhat)                                  1\n",
       "(httpstcocg3C5ChETi, HSBC_UK, applied)                       1\n",
       "(I, fear, get)                                               1\n",
       "(contact, Im, highly)                                        1\n",
       "(No, answer, phone)                                          1\n",
       "(suck, Squirrel, BALLS)                                      1\n",
       "(disappointed, AmexUK, hsbc)                                 1\n",
       "(pending, investigation, Three)                              1\n",
       "(worst, ethical, banking)                                    1\n",
       "(itâx80x99s, supposed, hopefully)                            1\n",
       "(product, Helllooo, HSBC)                                    1\n",
       "(Worst, bank, world)                                         1\n",
       "(handful, issue, customersnnAs)                              1\n",
       "(donâx80x99t, clue, simply)                                  1\n",
       "(worst, I, wish)                                             1\n",
       "(well, 2021nnCredit, HSBC_UK)                                1\n",
       "(5, working, day)                                            1\n",
       "(fighting, crisis, also)                                     1\n",
       "(stupidly, complex, mobile)                                  1\n",
       "(account, closed, bank)                                      1\n",
       "(Worst, customer, service)                                   1\n",
       "(take, ID, branch)                                           1\n",
       "(experience, Spoke, three)                                   1\n",
       "(US, sanction, Had)                                          1\n",
       "(Theres, CoronaVirus, Pandemic)                              1\n",
       "(slaughtered, single, response)                              1\n",
       "(bank, soon, I)                                              1\n",
       "(told, maximum, time)                                        1\n",
       "(oscarrickettnow, BizHumanRightsnnhttpstcoTfaJmDMyfk, So)    1\n",
       "(suffering, customer, hsbc)                                  1\n",
       "(I, told, maximum)                                           1\n",
       "(hour, nothing, happens)                                     1\n",
       "(HSBC, came, NatWest)                                        1\n",
       "(cock, Meanwhile, âx81HSBC_UKâx81)                           1\n",
       "(back, personal, banking)                                    1\n",
       "dtype: int64"
      ]
     },
     "execution_count": 10,
     "metadata": {},
     "output_type": "execute_result"
    }
   ],
   "source": [
    "(pd.Series(nltk.ngrams(words, 3)).value_counts())[:50]"
   ]
  },
  {
   "cell_type": "code",
   "execution_count": 11,
   "metadata": {},
   "outputs": [
    {
     "data": {
      "text/plain": [
       "(kevgasandhtg, GasManGod, BorisJohnson, Tom_Randall)     3\n",
       "(HSBC_UK, TradesTalk, kevgasandhtg, GasManGod)           2\n",
       "(TradesTalk, kevgasandhtg, GasManGod, BorisJohnson)      2\n",
       "(soon, remaining, grant, paid)                           1\n",
       "(including, First, Direct, MampS)                        1\n",
       "(Thousands, small, business, literally)                  1\n",
       "(limit, patience, crossed, height)                       1\n",
       "(put, HOLE, amp, suck)                                   1\n",
       "(awful, service, Busy, canâx80x99t)                      1\n",
       "(service, worseWhat, nightmare, experience)              1\n",
       "(hanging, line, HSBC_UK, Hope)                           1\n",
       "(without, putting, HSBC, building)                       1\n",
       "(wHSBC, BBLS, aprx, 3)                                   1\n",
       "(mamafax, SteveB09904942, BradTJensen, jenniferatntd)    1\n",
       "(also, clear, plan, survive)                             1\n",
       "(1212, HSBC, Middle, East)                               1\n",
       "(HSBC, good, online, capability)                         1\n",
       "(I, find, reason, apart)                                 1\n",
       "(HSBC, full, They, dont)                                 1\n",
       "(Jonathan, They, slaughtered, single)                    1\n",
       "(international, transfer, 10, plus)                      1\n",
       "(Prepare, disappointed, HSBC, Do)                        1\n",
       "(HSBC, Extremely, disappointed, credit)                  1\n",
       "(One, worst, bank, account)                              1\n",
       "(banking, suddenly, introduce, 25month)                  1\n",
       "(two, month, I, couldnt)                                 1\n",
       "(funding, also, clear, plan)                             1\n",
       "(15, year, banking, suddenly)                            1\n",
       "(jono100, HSBC, HSBC_UK, HSBCUKBusiness)                 1\n",
       "(phil_66, HSBC_UK, Dont, worry)                          1\n",
       "(StarlingBank, reply, would, nice)                       1\n",
       "(Michell62432839, Good, luck, I)                         1\n",
       "(This, lock, alienate, 1212)                             1\n",
       "(came, NatWest, longer, required)                        1\n",
       "(1_Pipster, BoxingIQ3, HSBCUKBusiness, HSBC_UK)          1\n",
       "(need, start, looking, around)                           1\n",
       "(care, HSBC, able, transfer)                             1\n",
       "(balance, transfer, ðx9fx98, HSBC_UK)                    1\n",
       "(plus, day, money, doesnt)                               1\n",
       "(something, I, wanted, listening)                        1\n",
       "(awful, ignored, u, since)                               1\n",
       "(System, awful, They, couldnt)                           1\n",
       "(center, HSBC_UK, hi, could)                             1\n",
       "(secure, email, tel, Bankingin)                          1\n",
       "(also, culpable, helped, worsen)                         1\n",
       "(money, finally, get, itâx80x99s)                        1\n",
       "(enoughespecially, since, bailed, 11)                    1\n",
       "(today, Itâx80x99s, relentless, ðx9fx99x84)              1\n",
       "(trader, First, direct, customer)                        1\n",
       "(something, surprising, come, customer)                  1\n",
       "dtype: int64"
      ]
     },
     "execution_count": 11,
     "metadata": {},
     "output_type": "execute_result"
    }
   ],
   "source": [
    "(pd.Series(nltk.ngrams(words, 4)).value_counts())[:50]"
   ]
  },
  {
   "cell_type": "code",
   "execution_count": 12,
   "metadata": {},
   "outputs": [
    {
     "data": {
      "text/plain": [
       "(HSBC_UK, TradesTalk, kevgasandhtg, GasManGod, BorisJohnson)                    2\n",
       "(TradesTalk, kevgasandhtg, GasManGod, BorisJohnson, Tom_Randall)                2\n",
       "(since, day, 1, misplaced, balance)                                             1\n",
       "(unlawful, arrest, imprisonment, suit, HSBC)                                    1\n",
       "(The, woman, I, spoke, rude)                                                    1\n",
       "(intimationi, trying, reach, customer, service)                                 1\n",
       "(mortgage, lender, use, hsbc, These)                                            1\n",
       "(treatment, self, employednn, hmtreasury, HSBC_UK)                              1\n",
       "(Canada, alleged, action, would, caused)                                        1\n",
       "(bank, UK, HSBC_IN, sorry, bos)                                                 1\n",
       "(HSBC_UK, Not, first, time, last)                                               1\n",
       "(need, money, back, I, canâx80x99t)                                             1\n",
       "(BradTJensen, jenniferatntd, The, reason, HSBC)                                 1\n",
       "(Would, advise, moving, HSBC, OR)                                               1\n",
       "(I, started, switch, SammiGore, dominiquetaegon)                                1\n",
       "(three, clueless, admins, They, dont)                                           1\n",
       "(Haha, worst, use, word, FACT)                                                  1\n",
       "(deception, secure, unfair, unlawful, gain)                                     1\n",
       "(It, suck, situationnDid, realise, waiting)                                     1\n",
       "(help, Lowered, Credit, Limit, I)                                               1\n",
       "(customer, service, Very, untrueapplied, two)                                   1\n",
       "(care, HSBC, able, transfer, money)                                             1\n",
       "(2, month, given, money, Ive)                                                   1\n",
       "(time, Sole, trader, First, direct)                                             1\n",
       "(pls, upgrade, app, Pls, allow)                                                 1\n",
       "(recover, Staying, well, amp, hope)                                             1\n",
       "(advised, due, date, dividend, sadly)                                           1\n",
       "(gain, SABBBank, HSBC, worst, international)                                    1\n",
       "(HSBCUKBusiness, HSBC_UK, trying, get, one)                                     1\n",
       "(doesnt, care, Customers, Theres, CoronaVirus)                                  1\n",
       "(10, Ive, chased, HSBC, 5X)                                                     1\n",
       "(Might, move, HSBCðx9fx99x87ðx9fx8f¾âx80x8dâx99x80ïx8f, From, BAESystemsplc)    1\n",
       "(CBILS, loan, httpstcoNGqfMBceOy, HSBC_UK, AwfulServicenI)                      1\n",
       "(week, ago, bank, least, 25)                                                    1\n",
       "(Meanwhile, âx81HSBC_UKâx81, refuse, pay, travel)                               1\n",
       "(address, mortgage, application, cost, u)                                       1\n",
       "(HSBC_UK, StarlingBank, It, suck, situationnDid)                                1\n",
       "(I, didnâx80x99t, hung, Iâx80x99m, really)                                      1\n",
       "(customer, service, BarclaysUK, amp, BarclaysBizChat)                           1\n",
       "(US, sanction, Had, deal, taken)                                                1\n",
       "(capability, n3, There, option, like)                                           1\n",
       "(1, hour, ten, gave, ðx9fx98xad)                                                1\n",
       "(nice, learning_maths, MemoryLaneDigi1, StarlingBank, HSBC_UK)                  1\n",
       "(HSBC_UK, donâx80x99t, care, You, worst)                                        1\n",
       "(week, bar, Barclays, techie, problem)                                          1\n",
       "(money, India, past, two, month)                                                1\n",
       "(know, transfer, Awful, service, anneapplebaum)                                 1\n",
       "(forsaking, customer, httpstcocg3C5ChETi, HSBC_UK, applied)                     1\n",
       "(httpstcopqGtS86BQi, HSBC_UK, stil, waiting, All)                               1\n",
       "(casewait, 48, hr, 10, daysI)                                                   1\n",
       "dtype: int64"
      ]
     },
     "execution_count": 12,
     "metadata": {},
     "output_type": "execute_result"
    }
   ],
   "source": [
    "(pd.Series(nltk.ngrams(words, 5)).value_counts())[:50]"
   ]
  },
  {
   "cell_type": "code",
   "execution_count": null,
   "metadata": {},
   "outputs": [],
   "source": []
  }
 ],
 "metadata": {
  "kernelspec": {
   "display_name": "Python 3",
   "language": "python",
   "name": "python3"
  },
  "language_info": {
   "codemirror_mode": {
    "name": "ipython",
    "version": 3
   },
   "file_extension": ".py",
   "mimetype": "text/x-python",
   "name": "python",
   "nbconvert_exporter": "python",
   "pygments_lexer": "ipython3",
   "version": "3.7.3"
  }
 },
 "nbformat": 4,
 "nbformat_minor": 2
}
